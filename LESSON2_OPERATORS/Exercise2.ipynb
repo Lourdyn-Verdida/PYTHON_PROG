{
 "cells": [
  {
   "cell_type": "markdown",
   "id": "86c38771-051b-4e1a-8cd4-1916a76936e6",
   "metadata": {},
   "source": [
    "# Review Question 1"
   ]
  },
  {
   "cell_type": "code",
   "execution_count": 2,
   "id": "e99d872a-afea-4d91-bd08-73bb87718795",
   "metadata": {},
   "outputs": [
    {
     "name": "stdout",
     "output_type": "stream",
     "text": [
      "450000000\n",
      "450000000\n"
     ]
    }
   ],
   "source": [
    "num1 = 450_000_000\n",
    "num2 = 450000000\n",
    "print(num1)\n",
    "print(num2)"
   ]
  },
  {
   "cell_type": "code",
   "execution_count": 8,
   "id": "ef2a8768-7096-4e9b-994c-bd588d39c159",
   "metadata": {},
   "outputs": [
    {
     "name": "stdout",
     "output_type": "stream",
     "text": [
      "175000.0\n"
     ]
    }
   ],
   "source": [
    "print(float(175*(10**3)))"
   ]
  },
  {
   "cell_type": "code",
   "execution_count": 12,
   "id": "0cb2f1b0-7f46-40fb-beb1-b50ab0715d21",
   "metadata": {},
   "outputs": [
    {
     "data": {
      "text/plain": [
       "inf"
      ]
     },
     "execution_count": 12,
     "metadata": {},
     "output_type": "execute_result"
    }
   ],
   "source": [
    "2e308"
   ]
  },
  {
   "cell_type": "markdown",
   "id": "c2c6bb8d-8a37-45a8-8d36-b44590ef829e",
   "metadata": {},
   "source": [
    "# Review Question 2"
   ]
  },
  {
   "cell_type": "code",
   "execution_count": 41,
   "id": "a82efeff-3b48-4280-8323-9cb82aca68f4",
   "metadata": {},
   "outputs": [
    {
     "name": "stdin",
     "output_type": "stream",
     "text": [
      "Enter a base number:  1.2\n",
      "Enter an Exponent:  3\n"
     ]
    },
    {
     "name": "stdout",
     "output_type": "stream",
     "text": [
      "1.2to the power of 3 = 1.7279999999999998\n"
     ]
    }
   ],
   "source": [
    "num1 = input(\"Enter a base number: \")\n",
    "number1 = float(num1)\n",
    "num2 = input(\"Enter an Exponent: \")\n",
    "number2 = int(num2)\n",
    "result = pow(number1,number2)\n",
    "print(num1 + \"to the power of \"+num2+\" = \" +str(result))"
   ]
  },
  {
   "cell_type": "markdown",
   "id": "f1963acb-a59f-45ab-a9cc-b2a4bb172629",
   "metadata": {},
   "source": [
    "# Review Question 3"
   ]
  },
  {
   "cell_type": "code",
   "execution_count": 42,
   "id": "79025bac-0fd0-448f-adcf-831bb3ee6437",
   "metadata": {},
   "outputs": [
    {
     "name": "stdin",
     "output_type": "stream",
     "text": [
      "Enter a number:  5.4321\n"
     ]
    },
    {
     "name": "stdout",
     "output_type": "stream",
     "text": [
      "5.4321round to 2 decimal places is 5.43\n"
     ]
    }
   ],
   "source": [
    "num1 = input(\"Enter a number: \")\n",
    "number1 = float(num1)\n",
    "print(num1 + \"round to 2 decimal places is \" +str(round(number1,2)))"
   ]
  },
  {
   "cell_type": "code",
   "execution_count": 43,
   "id": "2f0573cf-8e97-40f0-89b8-2db92c316c1d",
   "metadata": {},
   "outputs": [
    {
     "name": "stdin",
     "output_type": "stream",
     "text": [
      "Enter a number:  -10\n"
     ]
    },
    {
     "name": "stdout",
     "output_type": "stream",
     "text": [
      "The Absolute value of -10 is 10.0\n"
     ]
    }
   ],
   "source": [
    "num1 = input(\"Enter a number: \")\n",
    "number1 = float(num1)\n",
    "print(\"The Absolute value of \"+num1+\" is \"+str(abs(number1)))"
   ]
  },
  {
   "cell_type": "markdown",
   "id": "7d6ee843-da98-4fb9-a011-dd964c424295",
   "metadata": {},
   "source": [
    "# Review Question 4"
   ]
  },
  {
   "cell_type": "code",
   "execution_count": 44,
   "id": "4a4e3e3c-b076-42ba-9f8d-f75f1a0db20d",
   "metadata": {},
   "outputs": [
    {
     "name": "stdin",
     "output_type": "stream",
     "text": [
      "Enter a number:  1.2\n",
      "Enter another number:  .5\n"
     ]
    },
    {
     "name": "stdout",
     "output_type": "stream",
     "text": [
      "The difference between1.2 and .5 is an integer? False\n"
     ]
    }
   ],
   "source": [
    "num1 = input(\"Enter a number: \")\n",
    "number1 = float(num1)\n",
    "num2 = input(\"Enter another number: \")\n",
    "number2 = float(num2)\n",
    "result = number1 - number2\n",
    "print(\"The difference between\"+num1+\" and \"+num2+\" is an integer? \"+str(result.is_integer()))"
   ]
  },
  {
   "cell_type": "markdown",
   "id": "31803d5e-9e50-4ceb-a8ad-d29699763442",
   "metadata": {},
   "source": [
    "# Review Question 5"
   ]
  },
  {
   "cell_type": "code",
   "execution_count": 46,
   "id": "6101e939-f66f-4de4-a98c-5df25943b811",
   "metadata": {},
   "outputs": [
    {
     "data": {
      "text/plain": [
       "1.147"
      ]
     },
     "execution_count": 46,
     "metadata": {},
     "output_type": "execute_result"
    }
   ],
   "source": [
    "round(3**.125,3)"
   ]
  },
  {
   "cell_type": "code",
   "execution_count": 53,
   "id": "de94d3e1-ae35-4a9f-ad49-fd5843808633",
   "metadata": {},
   "outputs": [
    {
     "data": {
      "text/plain": [
       "'$150,000.00'"
      ]
     },
     "execution_count": 53,
     "metadata": {},
     "output_type": "execute_result"
    }
   ],
   "source": [
    "f\"${150000:,.2f}\""
   ]
  },
  {
   "cell_type": "code",
   "execution_count": 62,
   "id": "8646ef04-8218-4396-a6e3-aa03d11591e6",
   "metadata": {},
   "outputs": [
    {
     "data": {
      "text/plain": [
       "'20%'"
      ]
     },
     "execution_count": 62,
     "metadata": {},
     "output_type": "execute_result"
    }
   ],
   "source": [
    "result = 2 / 10\n",
    "f\"{result:.0%}\""
   ]
  },
  {
   "cell_type": "code",
   "execution_count": null,
   "id": "91e18c48-0783-4fa2-9e43-fb9145577af9",
   "metadata": {},
   "outputs": [],
   "source": []
  }
 ],
 "metadata": {
  "kernelspec": {
   "display_name": "Python 3 (ipykernel)",
   "language": "python",
   "name": "python3"
  },
  "language_info": {
   "codemirror_mode": {
    "name": "ipython",
    "version": 3
   },
   "file_extension": ".py",
   "mimetype": "text/x-python",
   "name": "python",
   "nbconvert_exporter": "python",
   "pygments_lexer": "ipython3",
   "version": "3.13.5"
  }
 },
 "nbformat": 4,
 "nbformat_minor": 5
}
