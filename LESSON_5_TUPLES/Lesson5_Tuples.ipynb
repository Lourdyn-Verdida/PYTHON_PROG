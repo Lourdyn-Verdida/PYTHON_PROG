{
 "cells": [
  {
   "cell_type": "markdown",
   "id": "92058ccf-a874-4418-9efa-7a8d539f54d0",
   "metadata": {},
   "source": [
    "# Review Exercises 1"
   ]
  },
  {
   "cell_type": "code",
   "execution_count": 1,
   "id": "81f91318-d4f2-4594-b837-8bca235863b9",
   "metadata": {},
   "outputs": [],
   "source": [
    "CARDINAL_NUMBERS = (\"FIRST\",\"SECOND\",\"THIRD\")"
   ]
  },
  {
   "cell_type": "code",
   "execution_count": 2,
   "id": "273470ac-c4e6-4ba8-a091-29072a975388",
   "metadata": {},
   "outputs": [
    {
     "name": "stdout",
     "output_type": "stream",
     "text": [
      "SECOND\n"
     ]
    }
   ],
   "source": [
    "print(CARDINAL_NUMBERS[1])"
   ]
  },
  {
   "cell_type": "code",
   "execution_count": 4,
   "id": "8f561c73-a0f9-4baf-b094-3efd842a0b06",
   "metadata": {},
   "outputs": [
    {
     "name": "stdout",
     "output_type": "stream",
     "text": [
      "FIRST\n",
      "SECOND\n",
      "THIRD\n"
     ]
    }
   ],
   "source": [
    "POSITION1,POSITION2,POSITION3 = CARDINAL_NUMBERS\n",
    "print(POSITION1)\n",
    "print(POSITION2)\n",
    "print(POSITION3)"
   ]
  },
  {
   "cell_type": "code",
   "execution_count": 6,
   "id": "5e39520b-046b-430a-8af0-dca099969da1",
   "metadata": {},
   "outputs": [],
   "source": [
    "MY_NAME = tuple(\"LOURDYN\")"
   ]
  },
  {
   "cell_type": "code",
   "execution_count": 7,
   "id": "96b484bf-49f3-4b2a-9a59-d34c2197dc9d",
   "metadata": {},
   "outputs": [
    {
     "data": {
      "text/plain": [
       "False"
      ]
     },
     "execution_count": 7,
     "metadata": {},
     "output_type": "execute_result"
    }
   ],
   "source": [
    "\"x\" in MY_NAME"
   ]
  },
  {
   "cell_type": "code",
   "execution_count": 11,
   "id": "389ff2d0-3a2a-4770-95dc-578b95e9be48",
   "metadata": {},
   "outputs": [
    {
     "name": "stdout",
     "output_type": "stream",
     "text": [
      "('O', 'U', 'R', 'D', 'Y', 'N')\n"
     ]
    }
   ],
   "source": [
    "MY_NAME = tuple(\"LOURDYN\")\n",
    "print(MY_NAME[1:])"
   ]
  },
  {
   "cell_type": "markdown",
   "id": "4a4646f7-3e4c-4c01-b2a6-57e9f4f9b753",
   "metadata": {},
   "source": [
    "# Review Execise 2"
   ]
  },
  {
   "cell_type": "code",
   "execution_count": 34,
   "id": "57c428e7-96ee-4b9d-a7ce-3a650fd298c2",
   "metadata": {},
   "outputs": [],
   "source": [
    "food = [\"Rice\",\"Beans\"]"
   ]
  },
  {
   "cell_type": "code",
   "execution_count": 35,
   "id": "c6978c10-9147-4dbb-85ad-cad7e1b5c8e5",
   "metadata": {},
   "outputs": [],
   "source": [
    "food.append(\"Broccoli\")"
   ]
  },
  {
   "cell_type": "code",
   "execution_count": 36,
   "id": "0b198a08-94f0-490b-babf-a1ac7ee3fa39",
   "metadata": {},
   "outputs": [],
   "source": [
    "food.extend([\"Bread\",\"Pizza\"])"
   ]
  },
  {
   "cell_type": "code",
   "execution_count": 37,
   "id": "eaae8008-2dd6-440c-9db1-e3939ae92238",
   "metadata": {},
   "outputs": [
    {
     "name": "stdout",
     "output_type": "stream",
     "text": [
      "['Rice', 'Beans']\n"
     ]
    }
   ],
   "source": [
    "print(food[0:2])"
   ]
  },
  {
   "cell_type": "code",
   "execution_count": 38,
   "id": "05650f97-9d62-45f9-af49-b5d4e533b747",
   "metadata": {},
   "outputs": [
    {
     "name": "stdout",
     "output_type": "stream",
     "text": [
      "Pizza\n"
     ]
    }
   ],
   "source": [
    "print(food[4])"
   ]
  },
  {
   "cell_type": "code",
   "execution_count": 3,
   "id": "9a97732c-4c0e-464a-b497-7847c351a9c7",
   "metadata": {},
   "outputs": [],
   "source": [
    "Breakfast = \"EGGS FRUIT ORANGEJUICE\"\n",
    "String = Breakfast.split()"
   ]
  },
  {
   "cell_type": "code",
   "execution_count": 4,
   "id": "167a3567-a391-4330-bf9d-ed4136609541",
   "metadata": {},
   "outputs": [
    {
     "data": {
      "text/plain": [
       "3"
      ]
     },
     "execution_count": 4,
     "metadata": {},
     "output_type": "execute_result"
    }
   ],
   "source": [
    "len(String)"
   ]
  },
  {
   "cell_type": "code",
   "execution_count": 6,
   "id": "1fa3df19-29e3-497c-b2e0-23d62ce9ae41",
   "metadata": {},
   "outputs": [
    {
     "name": "stdout",
     "output_type": "stream",
     "text": [
      "[4, 5, 11]\n"
     ]
    }
   ],
   "source": [
    "Lengths = [len(food) for food in String]\n",
    "print(Lengths)"
   ]
  },
  {
   "cell_type": "markdown",
   "id": "04b55bba-750e-4b5d-afe8-f70da7bb5b07",
   "metadata": {},
   "source": [
    "# Review Exercise 3"
   ]
  },
  {
   "cell_type": "code",
   "execution_count": 7,
   "id": "bb25c87f-11ae-4685-924d-984a50a8be47",
   "metadata": {},
   "outputs": [],
   "source": [
    "string = [[1,2],[3,4]]"
   ]
  },
  {
   "cell_type": "code",
   "execution_count": 47,
   "id": "5b73f038-af47-4e0d-ac40-4d33a53ab607",
   "metadata": {},
   "outputs": [
    {
     "name": "stdout",
     "output_type": "stream",
     "text": [
      "Row1 Sum:3\n",
      "Row2 Sum:7\n"
     ]
    }
   ],
   "source": [
    "row = 1\n",
    "for result in string:\n",
    "    print(f\"Row{row} Sum:{sum(result)}\")\n",
    "    row = row + 1"
   ]
  },
  {
   "cell_type": "code",
   "execution_count": 48,
   "id": "03217a75-dbda-43ea-a322-6f3096a32930",
   "metadata": {},
   "outputs": [
    {
     "name": "stdout",
     "output_type": "stream",
     "text": [
      "[[1, 2], [3, 4]]\n"
     ]
    }
   ],
   "source": [
    "copy_num = string[:]"
   ]
  },
  {
   "cell_type": "code",
   "execution_count": 51,
   "id": "40c81854-9461-48ab-814f-8c6cd7c58c1a",
   "metadata": {},
   "outputs": [
    {
     "name": "stdout",
     "output_type": "stream",
     "text": [
      "[1, 2, 5, 7, 9]\n"
     ]
    }
   ],
   "source": [
    "numbers = [5, 2, 9, 1, 7]\n",
    "numbers.sort()\n",
    "print(numbers)"
   ]
  },
  {
   "cell_type": "markdown",
   "id": "2aa042f0-4f49-4fa6-97a0-c05f15af40cb",
   "metadata": {},
   "source": [
    "# Challenge: List of List"
   ]
  },
  {
   "cell_type": "code",
   "execution_count": 55,
   "id": "02af0902-3eb8-4f90-917a-5542e9648022",
   "metadata": {},
   "outputs": [
    {
     "name": "stdout",
     "output_type": "stream",
     "text": [
      "School: California Institute of Technology ID Number: 2175 Tuition: 37704\n",
      "School: Harvard ID Number: 19627 Tuition: 39849\n",
      "School: Massachusetts Institute of Technology ID Number: 10566 Tuition: 40732\n",
      "School: Princeton ID Number: 7802 Tuition: 37000\n",
      "School: Rice ID Number: 5879 Tuition: 35551\n",
      "School: Stanford ID Number: 19535 Tuition: 40569\n",
      "School: Yale ID Number: 11701 Tuition: 40500\n"
     ]
    }
   ],
   "source": [
    "universities = [\n",
    "    ['California Institute of Technology', 2175, 37704],\n",
    "    ['Harvard', 19627, 39849],\n",
    "    ['Massachusetts Institute of Technology', 10566, 40732],\n",
    "    ['Princeton', 7802, 37000],\n",
    "    ['Rice', 5879, 35551],\n",
    "    ['Stanford', 19535, 40569],\n",
    "    ['Yale', 11701, 40500]\n",
    "]\n",
    "for students in universities:\n",
    "    school,IDnum,tuition = students\n",
    "    print(f\"School: {school} ID Number: {IDnum} Tuition: {tuition}\")"
   ]
  },
  {
   "cell_type": "markdown",
   "id": "49628f09-7fbf-4259-91b9-d07ed01edda1",
   "metadata": {},
   "source": [
    "# Challenge: Wax Poetic"
   ]
  },
  {
   "cell_type": "code",
   "execution_count": 60,
   "id": "44c9b508-5400-4bed-8335-cb6c8a2531ad",
   "metadata": {},
   "outputs": [
    {
     "name": "stdout",
     "output_type": "stream",
     "text": [
      "Nouns: ['FOSSIL', 'HORSE', 'AARDVARK', 'JUDGE', 'CHEF', 'MANGO', 'EXTROVERT', 'GORILLA']\n",
      "Verbs: ['KICKS', 'JINGLES', 'BOUNCES', 'SLURPS', 'MEOWS', 'EXPLODES', 'CURDLES']\n",
      "Adjectives: ['FURRY', 'BALDING', 'INCREDULOUS', 'FRAGRANT', 'EXUBERANT', 'GLISTENING']\n",
      "Prepositions: ['AGAINST', 'AFTER', 'INTO', 'BENEATH', 'UPON', 'FOR', 'IN', 'LIKE', 'OVER', 'WITHIN']\n",
      "Adverbs: ['CURIOUSLY', 'FURIOUSLY', 'SENSUOUSLY', 'EXTRAVAGANTLY', 'TANTALIZINGLY']\n"
     ]
    }
   ],
   "source": [
    "nouns = [\"FOSSIL\", \"HORSE\", \"AARDVARK\", \"JUDGE\", \"CHEF\",\n",
    "         \"MANGO\", \"EXTROVERT\", \"GORILLA\"]\n",
    "\n",
    "verbs = [\"KICKS\", \"JINGLES\", \"BOUNCES\", \"SLURPS\", \"MEOWS\",\n",
    "         \"EXPLODES\", \"CURDLES\"]\n",
    "\n",
    "adjectives = [\"FURRY\", \"BALDING\", \"INCREDULOUS\", \"FRAGRANT\",\n",
    "              \"EXUBERANT\", \"GLISTENING\"]\n",
    "\n",
    "prepositions = [\"AGAINST\", \"AFTER\", \"INTO\", \"BENEATH\", \"UPON\",\n",
    "                \"FOR\", \"IN\", \"LIKE\", \"OVER\", \"WITHIN\"]\n",
    "\n",
    "adverbs = [\"CURIOUSLY\", \"FURIOUSLY\", \"SENSUOUSLY\",\n",
    "           \"EXTRAVAGANTLY\", \"TANTALIZINGLY\"]\n",
    "\n",
    "print(\"Nouns:\", nouns)\n",
    "print(\"Verbs:\", verbs)\n",
    "print(\"Adjectives:\", adjectives)\n",
    "print(\"Prepositions:\", prepositions)\n",
    "print(\"Adverbs:\", adverbs)"
   ]
  },
  {
   "cell_type": "markdown",
   "id": "40cd5e10-30a6-40ba-823f-4569465ce1e6",
   "metadata": {},
   "source": [
    "# Review Exercise 4"
   ]
  },
  {
   "cell_type": "code",
   "execution_count": 91,
   "id": "50677837-f5a9-468c-8785-d2be27a0ef87",
   "metadata": {},
   "outputs": [],
   "source": [
    "Captain = {}"
   ]
  },
  {
   "cell_type": "code",
   "execution_count": 92,
   "id": "c92c5262-bc52-4a77-a46e-bf0e4a85cf13",
   "metadata": {},
   "outputs": [],
   "source": [
    "Captain[\"Enterprise\"] = \"Picard\"\n",
    "Captain[\"Voyager\"] = \"Janeway\"\n",
    "Captain[\"Defiant\"] = \"Sisko\""
   ]
  },
  {
   "cell_type": "code",
   "execution_count": 93,
   "id": "0a9379ea-a632-428d-b9f9-6b128feaa0af",
   "metadata": {},
   "outputs": [],
   "source": [
    "if \"Enterprise\" not in Captain:\n",
    "    Captain[\"Enterprise\"] = \"Unknown\"\n",
    "if \"Discovery\" not in Captain:\n",
    "    Captain[\"Discovery\"] = \"Unknown\""
   ]
  },
  {
   "cell_type": "code",
   "execution_count": 94,
   "id": "84414745-bd77-49f9-99f6-e7b383181c16",
   "metadata": {},
   "outputs": [
    {
     "name": "stdout",
     "output_type": "stream",
     "text": [
      "The Enterprise is captained by Picard\n",
      "The Voyager is captained by Janeway\n",
      "The Defiant is captained by Sisko\n",
      "The Discovery is captained by Unknown\n"
     ]
    }
   ],
   "source": [
    "for ship, captain in Captain.items():\n",
    "    print(f\"The {ship} is captained by {captain}\")"
   ]
  },
  {
   "cell_type": "code",
   "execution_count": 96,
   "id": "205ba119-acf4-46a9-af7c-5ed05c6d3dba",
   "metadata": {},
   "outputs": [],
   "source": [
    "del Captain[\"Discovery\"]"
   ]
  },
  {
   "cell_type": "code",
   "execution_count": 103,
   "id": "b92ea932-f0a5-4cea-9d97-c796c911a62e",
   "metadata": {},
   "outputs": [],
   "source": [
    "Captain2 = dict(Captain)"
   ]
  },
  {
   "cell_type": "markdown",
   "id": "3ef81e7f-eca1-4565-9564-c12bbf69e50b",
   "metadata": {},
   "source": [
    "# Challenge: Capital vity Loop"
   ]
  },
  {
   "cell_type": "code",
   "execution_count": 104,
   "id": "96585e65-e884-487c-a74e-98fe9f0c643a",
   "metadata": {},
   "outputs": [
    {
     "name": "stdout",
     "output_type": "stream",
     "text": [
      "The Capital of the city Alabama is Montgomery\n",
      "The Capital of the city Alaska is Juneau\n",
      "The Capital of the city Arizona is Phoenix\n",
      "The Capital of the city Arkansas is Little Rock\n",
      "The Capital of the city California is Sacramento\n",
      "The Capital of the city Colorado is Denver\n",
      "The Capital of the city Connecticut is Hartford\n",
      "The Capital of the city Delaware is Dover\n",
      "The Capital of the city Florida is Tallahassee\n",
      "The Capital of the city Georgia is Atlanta\n"
     ]
    }
   ],
   "source": [
    "capitals_dict = {\n",
    "    \"Alabama\": \"Montgomery\",\n",
    "    \"Alaska\": \"Juneau\",\n",
    "    \"Arizona\": \"Phoenix\",\n",
    "    \"Arkansas\": \"Little Rock\",\n",
    "    \"California\": \"Sacramento\",\n",
    "    'California': 'Sacramento',\n",
    "    'Colorado': 'Denver',\n",
    "    'Connecticut': 'Hartford',\n",
    "    'Delaware': 'Dover',\n",
    "    'Florida': 'Tallahassee',\n",
    "    'Georgia': 'Atlanta',\n",
    "}\n",
    "for city, capital in capitals_dict.items():\n",
    "    print(f\"The Capital of the city {city} is {capital}\")"
   ]
  },
  {
   "cell_type": "code",
   "execution_count": null,
   "id": "906bed7c-ab20-4ad0-9923-8099b585a13b",
   "metadata": {},
   "outputs": [],
   "source": []
  }
 ],
 "metadata": {
  "kernelspec": {
   "display_name": "Python [conda env:base] *",
   "language": "python",
   "name": "conda-base-py"
  },
  "language_info": {
   "codemirror_mode": {
    "name": "ipython",
    "version": 3
   },
   "file_extension": ".py",
   "mimetype": "text/x-python",
   "name": "python",
   "nbconvert_exporter": "python",
   "pygments_lexer": "ipython3",
   "version": "3.13.5"
  }
 },
 "nbformat": 4,
 "nbformat_minor": 5
}
