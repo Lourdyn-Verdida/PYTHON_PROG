{
 "cells": [
  {
   "cell_type": "markdown",
   "id": "fe6afbba-dda8-44f3-af83-a63facabe10b",
   "metadata": {},
   "source": [
    "# 1st Long Exam September 9 2025"
   ]
  },
  {
   "cell_type": "markdown",
   "id": "8fa80878-5d3b-4e32-8fa2-2789f4c4597e",
   "metadata": {},
   "source": [
    "# Lourdyn Neil M. Verdida 21464755"
   ]
  },
  {
   "cell_type": "code",
   "execution_count": 1,
   "id": "6f70b8d0-6874-4910-8fee-2b4d6b0f8695",
   "metadata": {},
   "outputs": [
    {
     "name": "stdin",
     "output_type": "stream",
     "text": [
      "What is your name:  lourdyn\n"
     ]
    },
    {
     "name": "stdout",
     "output_type": "stream",
     "text": [
      "Hello lourdyn!\n"
     ]
    }
   ],
   "source": [
    "name = input(\"What is your name: \")\n",
    "print(f\"Hello {name}!\")"
   ]
  },
  {
   "cell_type": "code",
   "execution_count": 3,
   "id": "d4cc8a8b-f430-4d78-923a-0fa487747389",
   "metadata": {},
   "outputs": [
    {
     "name": "stdin",
     "output_type": "stream",
     "text": [
      "write any positive integer 5\n"
     ]
    },
    {
     "name": "stdout",
     "output_type": "stream",
     "text": [
      "The sum of all integer is 15.0\n"
     ]
    }
   ],
   "source": [
    "num = int(input(\"write any positive integer\"))\n",
    "result = num * (num + 1) / 2\n",
    "print(f\"The sum of all integer is {result}\")"
   ]
  },
  {
   "cell_type": "code",
   "execution_count": 6,
   "id": "dac8c887-7857-4440-a3b2-13502ded2377",
   "metadata": {},
   "outputs": [
    {
     "name": "stdin",
     "output_type": "stream",
     "text": [
      "write any letter:  q\n"
     ]
    },
    {
     "name": "stdout",
     "output_type": "stream",
     "text": [
      "The entered letter is a consonant\n"
     ]
    }
   ],
   "source": [
    "String = input(\"write any letter: \")\n",
    "if String == \"a\" or String == \"b\" or String == \"c\" or String == \"d\" or String == \"e\":\n",
    "    print(\"The Entered letter is a vowel\")\n",
    "elif String == \"y\":\n",
    "    print(\"Sometimes y is a vowel\")\n",
    "else:\n",
    "    print(\"The entered letter is a consonant\")"
   ]
  },
  {
   "cell_type": "code",
   "execution_count": null,
   "id": "d1804784-b28d-44dc-a100-2871067d2e96",
   "metadata": {},
   "outputs": [],
   "source": [
    "name = input(\"Write a name: \")\n",
    "letters = len(name)\n",
    "while True:\n",
    "    if letters > 0:\n",
    "        new_name = new_name + name[letters]\n",
    "        letters = letters - 1\n",
    "if name == new_name:\n",
    "    print(\"The name is a palindrome\")\n",
    "else:\n",
    "    print(\"The name is not a palindrome\")\n",
    "print(\"Honesty is the best policy\")"
   ]
  },
  {
   "cell_type": "code",
   "execution_count": null,
   "id": "69634139-ff99-4bff-8cc5-be357c19e01e",
   "metadata": {},
   "outputs": [],
   "source": [
    "def hyp(a,b):\n",
    "    h = ((a ** 2) + (b ** 2)) ** (1/2)\n",
    "    return h\n",
    "a = int(input(\"Write side a:\"))\n",
    "b = int(input(\"Write side b:\"))\n",
    "hyp(a,b)\n",
    "print(f\"The hypotenuse of the triangle is {h}\")"
   ]
  },
  {
   "cell_type": "code",
   "execution_count": null,
   "id": "165a0ba3-9498-4214-a5f1-89fc2a6a72fd",
   "metadata": {},
   "outputs": [],
   "source": []
  }
 ],
 "metadata": {
  "kernelspec": {
   "display_name": "Python 3 (ipykernel)",
   "language": "python",
   "name": "python3"
  },
  "language_info": {
   "codemirror_mode": {
    "name": "ipython",
    "version": 3
   },
   "file_extension": ".py",
   "mimetype": "text/x-python",
   "name": "python",
   "nbconvert_exporter": "python",
   "pygments_lexer": "ipython3",
   "version": "3.13.5"
  }
 },
 "nbformat": 4,
 "nbformat_minor": 5
}
