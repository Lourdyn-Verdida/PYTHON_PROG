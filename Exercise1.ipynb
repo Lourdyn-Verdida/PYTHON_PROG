{
 "cells": [
  {
   "cell_type": "markdown",
   "id": "865de87f-6947-4d9c-8dc2-4a38b065bcea",
   "metadata": {},
   "source": [
    "# Review Question 1"
   ]
  },
  {
   "cell_type": "code",
   "execution_count": 1,
   "id": "ca2d22c2-724d-4a53-9544-a9db98649c70",
   "metadata": {},
   "outputs": [
    {
     "data": {
      "text/plain": [
       "7"
      ]
     },
     "execution_count": 1,
     "metadata": {},
     "output_type": "execute_result"
    }
   ],
   "source": [
    "string =\"Lourdyn\"\n",
    "len(string)"
   ]
  },
  {
   "cell_type": "code",
   "execution_count": 2,
   "id": "e270d270-c40e-4b33-95dd-7a585f80b462",
   "metadata": {},
   "outputs": [
    {
     "data": {
      "text/plain": [
       "'LourdynVerdida'"
      ]
     },
     "execution_count": 2,
     "metadata": {},
     "output_type": "execute_result"
    }
   ],
   "source": [
    "string =\"Lourdyn\"\n",
    "string2 = \"Verdida\"\n",
    "string + string2"
   ]
  },
  {
   "cell_type": "code",
   "execution_count": 3,
   "id": "afddb1e6-89e1-498d-b40e-c40fd1a69b42",
   "metadata": {},
   "outputs": [
    {
     "data": {
      "text/plain": [
       "'Lourdyn Verdida'"
      ]
     },
     "execution_count": 3,
     "metadata": {},
     "output_type": "execute_result"
    }
   ],
   "source": [
    "string =\"Lourdyn\"\n",
    "string2 = \"Verdida\"\n",
    "string +\" \"+ string2"
   ]
  },
  {
   "cell_type": "code",
   "execution_count": 7,
   "id": "69a91b59-d84f-46ea-b8ed-89a682d5af26",
   "metadata": {},
   "outputs": [
    {
     "data": {
      "text/plain": [
       "'fox'"
      ]
     },
     "execution_count": 7,
     "metadata": {},
     "output_type": "execute_result"
    }
   ],
   "source": [
    "string = \"The quick brown fox jumped over the lazy dog #1234567890!\"\n",
    "string[16:19]"
   ]
  },
  {
   "cell_type": "markdown",
   "id": "bcf7755b-36eb-4e3b-9494-4d38ada7849c",
   "metadata": {},
   "source": [
    "# Review Question 2"
   ]
  },
  {
   "cell_type": "code",
   "execution_count": 17,
   "id": "cfa38d1b-9734-498a-81e2-d1fea3ee6403",
   "metadata": {},
   "outputs": [
    {
     "name": "stdout",
     "output_type": "stream",
     "text": [
      "animals\n",
      "badger\n",
      "honey bee\n",
      "honeybadger\n"
     ]
    }
   ],
   "source": [
    "txt1 = \"Animals\"\n",
    "txt2 = \"Badger\"\n",
    "txt3 = \"Honey Bee\"\n",
    "txt4 = \"Honeybadger\"\n",
    "print(txt1.lower())\n",
    "print(txt2.lower())\n",
    "print(txt3.lower())\n",
    "print(txt4.lower())"
   ]
  },
  {
   "cell_type": "code",
   "execution_count": 18,
   "id": "3e07644e-133b-4963-ae9b-88d6b8f6f689",
   "metadata": {},
   "outputs": [
    {
     "name": "stdout",
     "output_type": "stream",
     "text": [
      "ANIMALS\n",
      "BADGER\n",
      "HONEY BEE\n",
      "HONEYBADGER\n"
     ]
    }
   ],
   "source": [
    "txt1 = \"Animals\"\n",
    "txt2 = \"Badger\"\n",
    "txt3 = \"Honey Bee\"\n",
    "txt4 = \"Honeybadger\"\n",
    "print(txt1.upper())\n",
    "print(txt2.upper())\n",
    "print(txt3.upper())\n",
    "print(txt4.upper())"
   ]
  },
  {
   "cell_type": "code",
   "execution_count": 19,
   "id": "e7698cb6-594f-4a70-ba03-9fafdf5a3995",
   "metadata": {},
   "outputs": [
    {
     "name": "stdout",
     "output_type": "stream",
     "text": [
      "filletmignon\n",
      "Brisket\n"
     ]
    }
   ],
   "source": [
    "string1 =\" filletmignon\"\n",
    "string2 =\"Brisket \"\n",
    "print(string1.lstrip())\n",
    "print(string2.rstrip())"
   ]
  },
  {
   "cell_type": "code",
   "execution_count": 20,
   "id": "6292dd21-9474-4924-8271-e28795be7bfc",
   "metadata": {},
   "outputs": [
    {
     "name": "stdout",
     "output_type": "stream",
     "text": [
      "False\n",
      "True\n"
     ]
    }
   ],
   "source": [
    "string3=\"Becomes\"\n",
    "string4=\"becomes\"\n",
    "print(string3.startswith('be'))\n",
    "print(string4.startswith('be'))"
   ]
  },
  {
   "cell_type": "code",
   "execution_count": 21,
   "id": "7b91815f-9422-472b-a1ef-78b0e3ef2ec9",
   "metadata": {},
   "outputs": [
    {
     "name": "stdout",
     "output_type": "stream",
     "text": [
      "True\n",
      "False\n"
     ]
    }
   ],
   "source": [
    "string3=\"Becomes\"\n",
    "string4=\"becomes\"\n",
    "print(string3.startswith('Be'))\n",
    "print(string4.startswith('Be'))"
   ]
  },
  {
   "cell_type": "markdown",
   "id": "55cf8827-957e-4f7c-ad20-c0950c11ef52",
   "metadata": {},
   "source": [
    "# Review Question 3"
   ]
  },
  {
   "cell_type": "code",
   "execution_count": 22,
   "id": "3cbff58b-d9bc-466a-aa9d-9fccd2a37c17",
   "metadata": {},
   "outputs": [
    {
     "name": "stdin",
     "output_type": "stream",
     "text": [
      "Whats your name?  Lourdyn\n"
     ]
    },
    {
     "name": "stdout",
     "output_type": "stream",
     "text": [
      "Hi! Lourdyn\n"
     ]
    }
   ],
   "source": [
    "name = \"Whats your name? \"\n",
    "print(\"Hi! \" + input(name))"
   ]
  },
  {
   "cell_type": "code",
   "execution_count": 23,
   "id": "f314d852-4baa-4d5d-a0f8-bae287c91ca6",
   "metadata": {},
   "outputs": [
    {
     "name": "stdin",
     "output_type": "stream",
     "text": [
      "What is your Surname?  Verdida\n"
     ]
    },
    {
     "name": "stdout",
     "output_type": "stream",
     "text": [
      "verdida\n"
     ]
    }
   ],
   "source": [
    "Sname = \"What is your Surname? \"\n",
    "newword = input(Sname)\n",
    "print(newword.lower())"
   ]
  },
  {
   "cell_type": "code",
   "execution_count": 25,
   "id": "be6e5958-3f67-42f5-89a8-052b86b7503d",
   "metadata": {},
   "outputs": [
    {
     "name": "stdin",
     "output_type": "stream",
     "text": [
      "Write Anything:  lourrdyn\n"
     ]
    },
    {
     "name": "stdout",
     "output_type": "stream",
     "text": [
      "8\n"
     ]
    }
   ],
   "source": [
    "string1 = \"Write Anything: \"\n",
    "newstring = input(string1)\n",
    "print(len(newstring))"
   ]
  },
  {
   "cell_type": "markdown",
   "id": "bb982f3e-cf3c-47f8-94a9-5dbc428c85b3",
   "metadata": {},
   "source": [
    "# Review Question 4"
   ]
  },
  {
   "cell_type": "code",
   "execution_count": 26,
   "id": "1a234b30-c3e7-464b-bef8-b16d3576c54b",
   "metadata": {},
   "outputs": [
    {
     "name": "stdin",
     "output_type": "stream",
     "text": [
      "Tell me  your name:  lourdyn\n"
     ]
    },
    {
     "name": "stdout",
     "output_type": "stream",
     "text": [
      "L\n"
     ]
    }
   ],
   "source": [
    "name = \"Tell me  your name: \"\n",
    "first = input(name)\n",
    "finalfirst = first[0]\n",
    "print(finalfirst.upper())"
   ]
  },
  {
   "cell_type": "markdown",
   "id": "4da3e8a2-8183-4f6f-aeed-4519d19ce879",
   "metadata": {},
   "source": [
    "# Review Question 5"
   ]
  },
  {
   "cell_type": "code",
   "execution_count": 28,
   "id": "baee5144-7af6-4038-b559-2e3d37f48138",
   "metadata": {},
   "outputs": [
    {
     "data": {
      "text/plain": [
       "265"
      ]
     },
     "execution_count": 28,
     "metadata": {},
     "output_type": "execute_result"
    }
   ],
   "source": [
    "string = \"53\"\n",
    "string2 = int(string)\n",
    "result = 5 * string2\n",
    "result"
   ]
  },
  {
   "cell_type": "code",
   "execution_count": 29,
   "id": "76b883cd-3968-4934-96d0-f839ce843eda",
   "metadata": {},
   "outputs": [
    {
     "data": {
      "text/plain": [
       "280.9"
      ]
     },
     "execution_count": 29,
     "metadata": {},
     "output_type": "execute_result"
    }
   ],
   "source": [
    "string = \"53\"\n",
    "string2 = float(string)\n",
    "result = 5.3 * string2\n",
    "float(result)"
   ]
  },
  {
   "cell_type": "code",
   "execution_count": 31,
   "id": "a8dc375b-14c8-48ac-bd1a-9f5b1e47e4a4",
   "metadata": {},
   "outputs": [
    {
     "data": {
      "text/plain": [
       "'69'"
      ]
     },
     "execution_count": 31,
     "metadata": {},
     "output_type": "execute_result"
    }
   ],
   "source": [
    "string = \"6\"\n",
    "string1 = 9\n",
    "result = str(string1)\n",
    "string + result"
   ]
  },
  {
   "cell_type": "code",
   "execution_count": 33,
   "id": "3651ded7-6d7a-455e-8971-61db3b8abb92",
   "metadata": {},
   "outputs": [
    {
     "name": "stdin",
     "output_type": "stream",
     "text": [
      "Write the first number:  5\n",
      "Write the second number:  5\n"
     ]
    },
    {
     "data": {
      "text/plain": [
       "25"
      ]
     },
     "execution_count": 33,
     "metadata": {},
     "output_type": "execute_result"
    }
   ],
   "source": [
    "num1 = input(\"Write the first number: \")\n",
    "number1 = int(num1)\n",
    "num2 = input(\"Write the second number: \")\n",
    "number2 = int(num2)\n",
    "result = number1 * number2\n",
    "result"
   ]
  },
  {
   "cell_type": "markdown",
   "id": "7579b950-8bd4-4fe9-995b-96dbb0677989",
   "metadata": {},
   "source": [
    "# Review Question 6"
   ]
  },
  {
   "cell_type": "code",
   "execution_count": 38,
   "id": "db49d148-e425-40d0-8fa5-4ecae238cfff",
   "metadata": {},
   "outputs": [
    {
     "data": {
      "text/plain": [
       "-1"
      ]
     },
     "execution_count": 38,
     "metadata": {},
     "output_type": "execute_result"
    }
   ],
   "source": [
    "\"AAA\".find(\"a\")"
   ]
  },
  {
   "cell_type": "code",
   "execution_count": 41,
   "id": "00b22ad2-61d2-45ea-9e76-d5074ef1297b",
   "metadata": {},
   "outputs": [
    {
     "data": {
      "text/plain": [
       "'yomebody yaid yomething to yamantha'"
      ]
     },
     "execution_count": 41,
     "metadata": {},
     "output_type": "execute_result"
    }
   ],
   "source": [
    "string = \"Somebody said something to Samantha\"\n",
    "string3 = string.lower()\n",
    "string3.replace(\"s\",\"y\")"
   ]
  },
  {
   "cell_type": "code",
   "execution_count": 51,
   "id": "55557656-60fe-4fe6-89a9-fa28a6c45c8c",
   "metadata": {},
   "outputs": [
    {
     "name": "stdin",
     "output_type": "stream",
     "text": [
      "Input your name:  Lourdyn\n",
      "Input a letter:  y\n"
     ]
    },
    {
     "data": {
      "text/plain": [
       "5"
      ]
     },
     "execution_count": 51,
     "metadata": {},
     "output_type": "execute_result"
    }
   ],
   "source": [
    "string = input(\"Input your name: \")\n",
    "string.find(input(\"Input a letter: \"))"
   ]
  },
  {
   "cell_type": "markdown",
   "id": "3652e481-dd06-4e9b-9afc-1295c1d92960",
   "metadata": {},
   "source": [
    "# Review Question 7"
   ]
  },
  {
   "cell_type": "code",
   "execution_count": 53,
   "id": "06aa0fc5-1800-471f-966d-8ffe03db17fa",
   "metadata": {},
   "outputs": [
    {
     "name": "stdin",
     "output_type": "stream",
     "text": [
      "Input anything:  lourdyn\n"
     ]
    },
    {
     "data": {
      "text/plain": [
       "'10urdyn'"
      ]
     },
     "execution_count": 53,
     "metadata": {},
     "output_type": "execute_result"
    }
   ],
   "source": [
    "string = input(\"Input anything: \")\n",
    "string2 = string.replace(\"a\",\"4\")\n",
    "string3 = string2.replace(\"b\",\"8\")\n",
    "string4 = string3.replace(\"e\",\"3\")\n",
    "string5 = string4.replace(\"l\",\"1\")\n",
    "string6 = string5.replace(\"o\",\"0\")\n",
    "string7 = string6.replace(\"s\",\"5\")\n",
    "string8 = string7.replace(\"t\",\"7\")\n",
    "string8"
   ]
  },
  {
   "cell_type": "code",
   "execution_count": null,
   "id": "1fcdf89c-10b5-41ea-b4d7-d60c57daa96c",
   "metadata": {},
   "outputs": [],
   "source": []
  }
 ],
 "metadata": {
  "kernelspec": {
   "display_name": "Python 3 (ipykernel)",
   "language": "python",
   "name": "python3"
  },
  "language_info": {
   "codemirror_mode": {
    "name": "ipython",
    "version": 3
   },
   "file_extension": ".py",
   "mimetype": "text/x-python",
   "name": "python",
   "nbconvert_exporter": "python",
   "pygments_lexer": "ipython3",
   "version": "3.13.5"
  }
 },
 "nbformat": 4,
 "nbformat_minor": 5
}
