{
 "cells": [
  {
   "cell_type": "code",
   "execution_count": 4,
   "id": "ce8698c8-415e-4a18-b231-5e4de9f1f497",
   "metadata": {},
   "outputs": [
    {
     "name": "stdout",
     "output_type": "stream",
     "text": [
      "THE AREA OF A 5 BY 8 RECTANGLE IS 40\n"
     ]
    }
   ],
   "source": [
    "from Helpers import string, math\n",
    "Area = math.area(5, 8)\n",
    "string.shout(f\"the area of A 5 by 8 rectangle is {Area}\")"
   ]
  },
  {
   "cell_type": "code",
   "execution_count": null,
   "id": "36c23c45-f669-471c-8391-693abe695f25",
   "metadata": {},
   "outputs": [],
   "source": []
  }
 ],
 "metadata": {
  "kernelspec": {
   "display_name": "Python 3 (ipykernel)",
   "language": "python",
   "name": "python3"
  },
  "language_info": {
   "codemirror_mode": {
    "name": "ipython",
    "version": 3
   },
   "file_extension": ".py",
   "mimetype": "text/x-python",
   "name": "python",
   "nbconvert_exporter": "python",
   "pygments_lexer": "ipython3",
   "version": "3.13.5"
  }
 },
 "nbformat": 4,
 "nbformat_minor": 5
}
