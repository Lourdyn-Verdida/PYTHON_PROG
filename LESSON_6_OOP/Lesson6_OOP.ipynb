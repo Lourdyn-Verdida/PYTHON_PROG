{
 "cells": [
  {
   "cell_type": "markdown",
   "id": "6e2fc506-954f-4013-a8aa-054545b586e9",
   "metadata": {},
   "source": [
    "# Review Exercise 1"
   ]
  },
  {
   "cell_type": "code",
   "execution_count": 12,
   "id": "244bbb35-c38c-4052-9fa0-58f06c04d5b2",
   "metadata": {},
   "outputs": [
    {
     "name": "stdout",
     "output_type": "stream",
     "text": [
      "Philo's coat is Brown\n"
     ]
    }
   ],
   "source": [
    "class Dog:\n",
    "    def __init__(self,name,age,coat_color):\n",
    "        self.name = name\n",
    "        self.age = age\n",
    "        self.coat_color = coat_color\n",
    "philo = Dog(\"Philo\", 5 , \"Brown\")\n",
    "print(f\"{philo.name}'s coat is {philo.coat_color}\")"
   ]
  },
  {
   "cell_type": "code",
   "execution_count": 19,
   "id": "e4dc1277-eb2f-4cef-82bb-6d04fc09a250",
   "metadata": {},
   "outputs": [
    {
     "name": "stdout",
     "output_type": "stream",
     "text": [
      "The blue car has 20,000\n",
      "The red car has 30,000\n"
     ]
    }
   ],
   "source": [
    "class car:\n",
    "    def __init__(self,color,milage):\n",
    "        self.color = color\n",
    "        self.milage = milage\n",
    "car_A = car(\"blue\",20000)\n",
    "car_B = car(\"red\",30000)\n",
    "print(f\"The {car_A.color} car has {(car_A.milage):,}\")\n",
    "print(f\"The {car_B.color} car has {(car_B.milage):,}\")"
   ]
  },
  {
   "cell_type": "code",
   "execution_count": 30,
   "id": "e42b990b-c349-4e10-b471-5e0f10bc593f",
   "metadata": {},
   "outputs": [
    {
     "name": "stdout",
     "output_type": "stream",
     "text": [
      "The blue car has 100\n",
      "The red car has 30,100\n"
     ]
    }
   ],
   "source": [
    "class car:\n",
    "    def __init__(self,color,milage):\n",
    "        self.color = color\n",
    "        self.milage = milage\n",
    "    def drive(self,miles):\n",
    "        self.milage = miles + self.milage\n",
    "car_A = car(\"blue\",0)\n",
    "car_B = car(\"red\",30000)\n",
    "car_A.drive(100)\n",
    "car_B.drive(100)\n",
    "print(f\"The {car_A.color} car has {(car_A.milage):,}\")\n",
    "print(f\"The {car_B.color} car has {(car_B.milage):,}\")"
   ]
  },
  {
   "cell_type": "markdown",
   "id": "cb6648fb-e526-4a2f-8ac2-cbba1b3c58e3",
   "metadata": {},
   "source": [
    "# Review Exercise 2"
   ]
  },
  {
   "cell_type": "code",
   "execution_count": 47,
   "id": "93659ced-1254-4ede-ae39-01df9726e73f",
   "metadata": {},
   "outputs": [],
   "source": [
    "class Dog:\n",
    "    species = \"Canis familiaris\"\n",
    "    def __init__(self,name,age):\n",
    "        self.name = name\n",
    "        self.age = age\n",
    "    def __str__(self):\n",
    "        return f\"{self.name} is {self.age} years old\"\n",
    "    def speak(self,sound):\n",
    "        return f\"{self.name} says {sound}\"\n",
    "class Golden_Retriever(Dog):\n",
    "    def speak(self,sound = \"Bark\"):\n",
    "        return f\"{self.name} says {sound}\""
   ]
  },
  {
   "cell_type": "code",
   "execution_count": 67,
   "id": "4db125dc-de0e-42ad-99be-a0c90d114328",
   "metadata": {},
   "outputs": [
    {
     "name": "stdout",
     "output_type": "stream",
     "text": [
      "16\n"
     ]
    }
   ],
   "source": [
    "class Rectangle:\n",
    "    def __init__(self,Length,Width):\n",
    "        self.Length = Length\n",
    "        self.Width = Width\n",
    "    def Area(self):\n",
    "        return self.Length * self.Width\n",
    "class Square(Rectangle):\n",
    "    def __init__(self,Side_Length):\n",
    "        self.Length = Side_Length\n",
    "        self.Width = Side_Length\n",
    "side = Square(4)\n",
    "print(side.Area())"
   ]
  },
  {
   "cell_type": "markdown",
   "id": "0f5ac624-6e20-4a86-821c-384d5e9a33db",
   "metadata": {},
   "source": [
    "# CHALLENGE: MODEL A FARM"
   ]
  },
  {
   "cell_type": "code",
   "execution_count": 101,
   "id": "17d205e4-0c48-461a-9cde-cbaf2f99d62b",
   "metadata": {},
   "outputs": [
    {
     "name": "stdout",
     "output_type": "stream",
     "text": [
      "Jerick says Moo\n",
      "Jerick is eating grass\n",
      "Jerick produce Milk\n",
      "Felix says Mmee\n",
      "Felix is eating grass\n",
      "Felix's poo is the origin of Boba Pearl\n",
      "Euwen says blaah\n",
      "Euwen is eating grass\n",
      "clothes are made of Euwen's Wool\n"
     ]
    }
   ],
   "source": [
    "class Animal:\n",
    "    def __init__(self,name,food,sound):\n",
    "        self.name = name\n",
    "        self.food = food\n",
    "        self.sound = sound\n",
    "    def Eat(self):\n",
    "        return f\"{self.name} is eating {self.food}\"\n",
    "    def Sound(self):\n",
    "        return f\"{self.name} says {self.sound}\"\n",
    "class Cow(Animal):\n",
    "    def Milk(self):\n",
    "        return f\"{self.name} produce Milk\"\n",
    "class Goat(Animal):\n",
    "    def Pearls(self):\n",
    "        return f\"{self.name}'s poo is the origin of Boba Pearl\"\n",
    "class Sheep(Animal):\n",
    "    def Wool(self):\n",
    "        return f\"clothes are made of {self.name}'s Wool\"\n",
    "cow = Cow(\"Jerick\",\"grass\",\"Moo\")\n",
    "print(cow.Sound())\n",
    "print(cow.Eat())\n",
    "print(cow.Milk())\n",
    "\n",
    "goat = Goat(\"Felix\",\"grass\",\"Mmee\")\n",
    "print(goat.Sound())\n",
    "print(goat.Eat())\n",
    "print(goat.Pearls())\n",
    "\n",
    "sheep = Sheep(\"Euwen\",\"grass\",\"blaah\")\n",
    "print(sheep.Sound())\n",
    "print(sheep.Eat())\n",
    "print(sheep.Wool())"
   ]
  },
  {
   "cell_type": "code",
   "execution_count": null,
   "id": "2201afa4-9865-4cb6-b3f9-a084a763ae7d",
   "metadata": {},
   "outputs": [],
   "source": []
  }
 ],
 "metadata": {
  "kernelspec": {
   "display_name": "Python [conda env:base] *",
   "language": "python",
   "name": "conda-base-py"
  },
  "language_info": {
   "codemirror_mode": {
    "name": "ipython",
    "version": 3
   },
   "file_extension": ".py",
   "mimetype": "text/x-python",
   "name": "python",
   "nbconvert_exporter": "python",
   "pygments_lexer": "ipython3",
   "version": "3.13.5"
  }
 },
 "nbformat": 4,
 "nbformat_minor": 5
}
