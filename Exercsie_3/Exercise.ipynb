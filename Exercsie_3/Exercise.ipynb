{
 "cells": [
  {
   "cell_type": "markdown",
   "id": "84599465-ed9b-4251-ba7f-3a0afac99f2b",
   "metadata": {},
   "source": [
    "# Review Question 1"
   ]
  },
  {
   "cell_type": "code",
   "execution_count": 1,
   "id": "1c4f17f2-2e87-4eb1-9982-271dd71238f7",
   "metadata": {},
   "outputs": [
    {
     "name": "stdout",
     "output_type": "stream",
     "text": [
      "8\n",
      "64\n",
      "216\n"
     ]
    }
   ],
   "source": [
    "def cube(num):\n",
    "    return num ** 3   \n",
    "print(cube(2))\n",
    "print(cube(4))\n",
    "print(cube(6))"
   ]
  },
  {
   "cell_type": "code",
   "execution_count": 2,
   "id": "c5228480-6a98-47c8-af08-e8c6951f56e4",
   "metadata": {},
   "outputs": [
    {
     "name": "stdout",
     "output_type": "stream",
     "text": [
      "Hello, Lourdyn!\n"
     ]
    }
   ],
   "source": [
    "def greet(name):\n",
    "    print(f\"Hello, {name}!\")\n",
    "    \n",
    "greet(\"Lourdyn\")"
   ]
  },
  {
   "cell_type": "markdown",
   "id": "70b1f8f7-df56-414f-978e-df4baba3ce75",
   "metadata": {},
   "source": [
    "# Review Question 2"
   ]
  },
  {
   "cell_type": "code",
   "execution_count": 7,
   "id": "8c3da90b-15e0-4526-8a1a-debd9386ec61",
   "metadata": {},
   "outputs": [
    {
     "name": "stdin",
     "output_type": "stream",
     "text": [
      "Enter a temperature in degrees C:  37\n"
     ]
    },
    {
     "name": "stdout",
     "output_type": "stream",
     "text": [
      "37.0 degrees C = 98.6 degrees F\n"
     ]
    }
   ],
   "source": [
    "def convert_cel_to_far(Cel):\n",
    "    result = (Cel * 9/5) + 32\n",
    "    return result\n",
    "Degrees = input(\"Enter a temperature in degrees C: \")\n",
    "Cel = float(Degrees)\n",
    "result = convert_cel_to_far(Cel)\n",
    "print(f\"{Cel} degrees C = {round(result,2)} degrees F\")"
   ]
  },
  {
   "cell_type": "code",
   "execution_count": 8,
   "id": "246f97c8-478c-415f-b442-72432de016e6",
   "metadata": {},
   "outputs": [
    {
     "name": "stdin",
     "output_type": "stream",
     "text": [
      "Enter a temperature in degrees F:  72\n"
     ]
    },
    {
     "name": "stdout",
     "output_type": "stream",
     "text": [
      "72.0 degrees F = 22.22 degrees C\n"
     ]
    }
   ],
   "source": [
    "def convert_far_to_cel(Faren):\n",
    "    result = (Faren - 32) / (9/5)\n",
    "    return result\n",
    "Degrees = input(\"Enter a temperature in degrees F: \")\n",
    "Faren = float(Degrees)\n",
    "result = convert_far_to_cel(Faren)\n",
    "print(f\"{Faren} degrees F = {round(result,2)} degrees C\")"
   ]
  },
  {
   "cell_type": "markdown",
   "id": "ee3a7f9d-c04e-4321-ad10-4737787c3cea",
   "metadata": {},
   "source": [
    "# Review Question 3"
   ]
  },
  {
   "cell_type": "code",
   "execution_count": 9,
   "id": "da0574d2-156e-423a-a2f3-d122b7c05378",
   "metadata": {},
   "outputs": [
    {
     "name": "stdout",
     "output_type": "stream",
     "text": [
      "2\n",
      "3\n",
      "4\n",
      "5\n",
      "6\n",
      "7\n",
      "8\n",
      "9\n",
      "10\n"
     ]
    }
   ],
   "source": [
    "for n in range(2,11):\n",
    "    print(n)"
   ]
  },
  {
   "cell_type": "code",
   "execution_count": 10,
   "id": "801b3cbe-c31b-47c5-9afa-3b531bb585ad",
   "metadata": {},
   "outputs": [
    {
     "name": "stdout",
     "output_type": "stream",
     "text": [
      "2\n",
      "3\n",
      "4\n",
      "5\n",
      "6\n",
      "7\n",
      "8\n",
      "9\n",
      "10\n"
     ]
    }
   ],
   "source": [
    "n = 2\n",
    "while n <= 10:\n",
    "    print(n)\n",
    "    n = n + 1"
   ]
  },
  {
   "cell_type": "code",
   "execution_count": 20,
   "id": "5a8c9595-305e-41c5-a1f2-e631a7689036",
   "metadata": {},
   "outputs": [
    {
     "name": "stdout",
     "output_type": "stream",
     "text": [
      "4\n",
      "8\n",
      "16\n"
     ]
    }
   ],
   "source": [
    "def doubles(value):\n",
    "    return value * 2\n",
    "value = 2\n",
    "for i in range(3):\n",
    "    value = doubles(value)\n",
    "    print(value)"
   ]
  },
  {
   "cell_type": "code",
   "execution_count": null,
   "id": "95dfbda6-b0ab-462c-b3ab-5210c3c89e0a",
   "metadata": {},
   "outputs": [],
   "source": []
  }
 ],
 "metadata": {
  "kernelspec": {
   "display_name": "Python [conda env:base] *",
   "language": "python",
   "name": "conda-base-py"
  },
  "language_info": {
   "codemirror_mode": {
    "name": "ipython",
    "version": 3
   },
   "file_extension": ".py",
   "mimetype": "text/x-python",
   "name": "python",
   "nbconvert_exporter": "python",
   "pygments_lexer": "ipython3",
   "version": "3.13.5"
  }
 },
 "nbformat": 4,
 "nbformat_minor": 5
}
