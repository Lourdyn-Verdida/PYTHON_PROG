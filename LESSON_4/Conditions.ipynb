{
 "cells": [
  {
   "cell_type": "markdown",
   "id": "a041f9b2-63f1-4173-8bce-e24e335339b1",
   "metadata": {},
   "source": [
    "# Review Question 1"
   ]
  },
  {
   "cell_type": "code",
   "execution_count": 1,
   "id": "cf24b292-afcb-4458-b280-e5e7f4e19f57",
   "metadata": {},
   "outputs": [
    {
     "name": "stdout",
     "output_type": "stream",
     "text": [
      "True\n",
      "False\n",
      "True\n",
      "True\n",
      "True\n",
      "False\n"
     ]
    }
   ],
   "source": [
    "print(1 <= 1)\n",
    "print(1 != 1)\n",
    "print(1 != 2)\n",
    "print(\"good\" != \"bad\")\n",
    "print(\"good\" != \"Good\")\n",
    "print(123 == \"123\")"
   ]
  },
  {
   "cell_type": "code",
   "execution_count": 2,
   "id": "aa8b12d8-2d81-43d1-ab24-f2ea7ebe3e51",
   "metadata": {},
   "outputs": [
    {
     "name": "stdout",
     "output_type": "stream",
     "text": [
      "True\n",
      "True\n",
      "True\n",
      "True\n"
     ]
    }
   ],
   "source": [
    "print(3 <= 4)\n",
    "print(10 >= 5)\n",
    "print(\"jack\" != \"jill\")\n",
    "print(42 != \"42\")"
   ]
  },
  {
   "cell_type": "markdown",
   "id": "13757c74-198f-4fad-8b91-446dee6d5e5f",
   "metadata": {},
   "source": [
    "# Review Question 2"
   ]
  },
  {
   "cell_type": "code",
   "execution_count": 3,
   "id": "e17b4b21-9b39-49bb-bcd9-e2aed7d8a48a",
   "metadata": {},
   "outputs": [
    {
     "name": "stdout",
     "output_type": "stream",
     "text": [
      "False\n",
      "False\n",
      "True\n",
      "False\n"
     ]
    }
   ],
   "source": [
    "print((1 <= 1) and (1 != 1))\n",
    "print(not (1 != 2))\n",
    "print((\"good\" != \"bad\") or False)\n",
    "print((\"good\") != \"Good\" and not (1 == 1))"
   ]
  },
  {
   "cell_type": "code",
   "execution_count": 7,
   "id": "3272de99-9f19-45e9-b08d-f4e126c84be4",
   "metadata": {},
   "outputs": [
    {
     "data": {
      "text/plain": [
       "True"
      ]
     },
     "execution_count": 7,
     "metadata": {},
     "output_type": "execute_result"
    }
   ],
   "source": [
    "False == (not True)"
   ]
  },
  {
   "cell_type": "code",
   "execution_count": 5,
   "id": "5e8cf5e5-00c7-4c68-982a-4a7e10c1a449",
   "metadata": {},
   "outputs": [
    {
     "data": {
      "text/plain": [
       "True"
      ]
     },
     "execution_count": 5,
     "metadata": {},
     "output_type": "execute_result"
    }
   ],
   "source": [
    "(True and False) == (True and False)"
   ]
  },
  {
   "cell_type": "code",
   "execution_count": 6,
   "id": "2fa3b867-c7f7-4f49-8752-5773b1e2879f",
   "metadata": {},
   "outputs": [
    {
     "data": {
      "text/plain": [
       "True"
      ]
     },
     "execution_count": 6,
     "metadata": {},
     "output_type": "execute_result"
    }
   ],
   "source": [
    "not (True and (\"A\" == \"B\"))"
   ]
  },
  {
   "cell_type": "markdown",
   "id": "e5488324-5eed-47c1-92ae-3466dea19e8d",
   "metadata": {},
   "source": [
    "# Review Question 3"
   ]
  },
  {
   "cell_type": "code",
   "execution_count": 8,
   "id": "f8ad8474-3513-4c20-b1a0-1ed016f8f8dd",
   "metadata": {},
   "outputs": [
    {
     "name": "stdin",
     "output_type": "stream",
     "text": [
      "Enter a word:  lourdyn\n"
     ]
    },
    {
     "name": "stdout",
     "output_type": "stream",
     "text": [
      "The word has more than 5 characters.\n"
     ]
    }
   ],
   "source": [
    "word = input(\"Enter a word: \")\n",
    "\n",
    "length = len(word)\n",
    "\n",
    "if length < 5:\n",
    "    print(\"The word has less than 5 characters.\")\n",
    "elif length == 5:\n",
    "    print(\"The word has exactly 5 characters.\")\n",
    "else:\n",
    "    print(\"The word has more than 5 characters.\")"
   ]
  },
  {
   "cell_type": "markdown",
   "id": "54838643-1244-4912-8b83-fce7c666931e",
   "metadata": {},
   "source": [
    "# Review Question 4"
   ]
  },
  {
   "cell_type": "code",
   "execution_count": 18,
   "id": "89dcbeb7-e117-44cf-96ad-fe62cfd0aaba",
   "metadata": {},
   "outputs": [
    {
     "name": "stdin",
     "output_type": "stream",
     "text": [
      "Enter something(q to quit):  g\n"
     ]
    },
    {
     "name": "stdout",
     "output_type": "stream",
     "text": [
      "You entered: g\n"
     ]
    },
    {
     "name": "stdin",
     "output_type": "stream",
     "text": [
      "Enter something(q to quit):  s\n"
     ]
    },
    {
     "name": "stdout",
     "output_type": "stream",
     "text": [
      "You entered: s\n"
     ]
    },
    {
     "name": "stdin",
     "output_type": "stream",
     "text": [
      "Enter something(q to quit):  q\n"
     ]
    },
    {
     "name": "stdout",
     "output_type": "stream",
     "text": [
      "GoodBye.\n"
     ]
    }
   ],
   "source": [
    "while True:\n",
    "    user_input = input(\"Enter something(q to quit): \")\n",
    "    if user_input == \"Q\" or user_input == \"q\":\n",
    "        print(\"GoodBye.\")\n",
    "        break\n",
    "    else:\n",
    "        print(f\"You entered: {user_input}\")"
   ]
  },
  {
   "cell_type": "code",
   "execution_count": 20,
   "id": "5d0244f1-cc66-4987-8493-bf0822640897",
   "metadata": {},
   "outputs": [
    {
     "name": "stdout",
     "output_type": "stream",
     "text": [
      "1\n",
      "2\n",
      "4\n",
      "5\n",
      "7\n",
      "8\n",
      "10\n",
      "11\n",
      "13\n",
      "14\n",
      "16\n",
      "17\n",
      "19\n",
      "20\n",
      "22\n",
      "23\n",
      "25\n",
      "26\n",
      "28\n",
      "29\n",
      "31\n",
      "32\n",
      "34\n",
      "35\n",
      "37\n",
      "38\n",
      "40\n",
      "41\n",
      "43\n",
      "44\n",
      "46\n",
      "47\n",
      "49\n"
     ]
    }
   ],
   "source": [
    "for i in range (0,50):\n",
    "    if i % 3 == 0:\n",
    "        continue\n",
    "    print(i)"
   ]
  },
  {
   "cell_type": "markdown",
   "id": "c4775f06-8746-4723-ab61-bda857933396",
   "metadata": {},
   "source": [
    "# Review Question 5"
   ]
  },
  {
   "cell_type": "code",
   "execution_count": 10,
   "id": "b60a0156-bd1e-4ca0-a179-2591ec6b1baa",
   "metadata": {},
   "outputs": [
    {
     "name": "stdin",
     "output_type": "stream",
     "text": [
      "Please enter an integer:  6\n"
     ]
    },
    {
     "name": "stdout",
     "output_type": "stream",
     "text": [
      "You entered the integer: 6\n"
     ]
    }
   ],
   "source": [
    "while True:\n",
    "    try:\n",
    "        user_input = input(\"Please enter an integer: \")\n",
    "        num = int(user_input)\n",
    "        print(f\"You entered the integer: {num}\")\n",
    "        break\n",
    "    except ValueError:\n",
    "        print(\"Try again. That was not an integer.\")"
   ]
  },
  {
   "cell_type": "code",
   "execution_count": 11,
   "id": "a35b8ac7-026d-428a-b10c-76a2382df352",
   "metadata": {},
   "outputs": [
    {
     "name": "stdin",
     "output_type": "stream",
     "text": [
      "Enter a string:  qwerty\n",
      "Enter an integer index N:  what\n"
     ]
    },
    {
     "name": "stdout",
     "output_type": "stream",
     "text": [
      "Try again. Please enter a valid integer for the index.\n"
     ]
    },
    {
     "name": "stdin",
     "output_type": "stream",
     "text": [
      "Enter an integer index N:  4\n"
     ]
    },
    {
     "name": "stdout",
     "output_type": "stream",
     "text": [
      "The character at index 4 is 't'.\n"
     ]
    }
   ],
   "source": [
    "string_input = input(\"Enter a string: \")\n",
    "\n",
    "while True:\n",
    "    try:\n",
    "        n = int(input(\"Enter an integer index N: \"))\n",
    "        char = string_input[n]\n",
    "        print(f\"The character at index {n} is '{char}'.\")\n",
    "        break\n",
    "    except ValueError:\n",
    "        print(\"Try again. Please enter a valid integer for the index.\")\n",
    "    except IndexError:\n",
    "        print(f\"Index out of range. Please enter an integer between 0 and {len(string_input)-1}.\")"
   ]
  },
  {
   "cell_type": "markdown",
   "id": "8212b774-590f-48a5-bbbe-3512d876216b",
   "metadata": {},
   "source": [
    "# Review Question 6"
   ]
  },
  {
   "cell_type": "code",
   "execution_count": 22,
   "id": "f58d0f63-dcae-484a-8ad6-ec08220b4888",
   "metadata": {},
   "outputs": [
    {
     "name": "stdout",
     "output_type": "stream",
     "text": [
      "Result: 1\n"
     ]
    }
   ],
   "source": [
    "import random\n",
    "\n",
    "def roll():\n",
    "    return random.randint(1, 6)\n",
    "result = roll()\n",
    "print(f\"Result: {result}\")"
   ]
  },
  {
   "cell_type": "code",
   "execution_count": 15,
   "id": "1430b5f9-9c9d-407b-b336-43ce3d798fca",
   "metadata": {},
   "outputs": [
    {
     "name": "stdout",
     "output_type": "stream",
     "text": [
      "Average number rolled in 10000 rolls: 3.5214\n"
     ]
    }
   ],
   "source": [
    "total = 0\n",
    "num_roll = 10000\n",
    "\n",
    "for _ in range(num_roll):\n",
    "    total += roll()\n",
    "\n",
    "ave = total / num_roll\n",
    "print(f\"Average number rolled in {num_roll} rolls: {ave}\")"
   ]
  },
  {
   "cell_type": "markdown",
   "id": "c01994d2-9443-4c90-9e53-c55da3f36cd7",
   "metadata": {},
   "source": [
    "# Challenge"
   ]
  },
  {
   "cell_type": "code",
   "execution_count": 48,
   "id": "ec56382e-a89b-46d3-af26-98b591c11335",
   "metadata": {},
   "outputs": [
    {
     "name": "stdout",
     "output_type": "stream",
     "text": [
      "Candidate A wins the election 63.57% of the time.\n"
     ]
    }
   ],
   "source": [
    "import random\n",
    "region1_chance = 0.87\n",
    "region2_chance = 0.65\n",
    "region3_chance = 0.17\n",
    "def elect_simulator():\n",
    "    wins = 0   \n",
    "    if random.random() < region1_chance:\n",
    "        wins += 1\n",
    "    if random.random() < region2_chance:\n",
    "        wins += 1\n",
    "    if random.random() < region3_chance:\n",
    "        wins += 1\n",
    "    return wins >= 2 \n",
    "total_sim = 10000\n",
    "a_wins = 0\n",
    "for _ in range(total_sim):\n",
    "    if elect_simulator():\n",
    "        a_wins += 1\n",
    "win_percent = (a_wins / total_sim) * 100\n",
    "print(f\"Candidate A wins the election {win_percent:.2f}% of the time.\")"
   ]
  },
  {
   "cell_type": "code",
   "execution_count": null,
   "id": "0d9a51f4-e609-4b3a-bd2c-d25955d2265e",
   "metadata": {},
   "outputs": [],
   "source": []
  }
 ],
 "metadata": {
  "kernelspec": {
   "display_name": "Python [conda env:base] *",
   "language": "python",
   "name": "conda-base-py"
  },
  "language_info": {
   "codemirror_mode": {
    "name": "ipython",
    "version": 3
   },
   "file_extension": ".py",
   "mimetype": "text/x-python",
   "name": "python",
   "nbconvert_exporter": "python",
   "pygments_lexer": "ipython3",
   "version": "3.13.5"
  }
 },
 "nbformat": 4,
 "nbformat_minor": 5
}
